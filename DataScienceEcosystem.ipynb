{
 "cells": [
  {
   "cell_type": "markdown",
   "id": "f8e9485b-40ca-49da-9ef6-b3c2e5a67bbe",
   "metadata": {},
   "source": [
    "# Data Science Tools and Ecosystem"
   ]
  },
  {
   "cell_type": "markdown",
   "id": "03d46e5d-3c64-4745-bd35-b137ccbf7399",
   "metadata": {},
   "source": [
    "In this notebook, Data Science Tools and Ecosystem are summarized."
   ]
  },
  {
   "cell_type": "markdown",
   "id": "139608ee-2a10-40b0-8e21-e8b38d04f3da",
   "metadata": {},
   "source": [
    "**Objectives**\n",
    "+ List popular languages for Data Science\n",
    "+ List commonly used libraries for Data Science\n",
    "+ List development environment open-source tools used by Data Scientists"
   ]
  },
  {
   "cell_type": "markdown",
   "id": "8b034d80-4392-4ec2-bbd7-8168bcaec3d8",
   "metadata": {},
   "source": [
    "Some of the popular languages that Data Scientists use are:\n",
    "1. Python\n",
    "2. R\n",
    "3. SQL\n",
    "4. Scala\n",
    "5. Java"
   ]
  },
  {
   "cell_type": "markdown",
   "id": "015e7ac8-6e9e-4f63-883c-6e4a9b9110e1",
   "metadata": {},
   "source": [
    "Some of the commonly used libraries used by Data Scientists include:\n",
    "1. Pandas\n",
    "2. Numpy\n",
    "3. Matplotlib\n",
    "4. Scikit-Learn\n",
    "5. Tensorflow\n",
    "6. ggplot\n",
    "7. Pytorch"
   ]
  },
  {
   "cell_type": "markdown",
   "id": "d879f8cd-d51d-4355-8ad2-1775a0d49165",
   "metadata": {},
   "source": [
    "| Data Science Tools |\n",
    "| ------------------ |\n",
    "| Jupyter Notebook |\n",
    "| Jupyter Lab |\n",
    "| RStudio |"
   ]
  },
  {
   "cell_type": "markdown",
   "id": "053a637d-2072-4a1c-ad05-90a583c73fc8",
   "metadata": {},
   "source": [
    "### Below are a few examples of evaluating arithmetic expressions in Python"
   ]
  },
  {
   "cell_type": "code",
   "execution_count": 2,
   "id": "098b01bf-9aa7-4f82-b250-bfb3a36a7e03",
   "metadata": {
    "tags": []
   },
   "outputs": [
    {
     "data": {
      "text/plain": [
       "17"
      ]
     },
     "execution_count": 2,
     "metadata": {},
     "output_type": "execute_result"
    }
   ],
   "source": [
    "# This is a simple arithimetic expression to multiply then add integars\n",
    "(3*4)+5"
   ]
  },
  {
   "cell_type": "code",
   "execution_count": 8,
   "id": "fd0fc9d8-8e04-4cff-8e1b-8f684df6f43b",
   "metadata": {
    "tags": []
   },
   "outputs": [
    {
     "data": {
      "text/plain": [
       "3.3333333333333335"
      ]
     },
     "execution_count": 8,
     "metadata": {},
     "output_type": "execute_result"
    }
   ],
   "source": [
    "# This will convert 200 minutes to hours by dividing by 60\n",
    "\n",
    "200/60"
   ]
  },
  {
   "cell_type": "markdown",
   "id": "e14868b9-d024-4dc4-9c0b-950d4bda3926",
   "metadata": {},
   "source": [
    "## Author\n",
    "George Onwughalu "
   ]
  },
  {
   "cell_type": "code",
   "execution_count": null,
   "id": "28a63191-a022-481c-a90e-156f74ca2ff7",
   "metadata": {},
   "outputs": [],
   "source": []
  }
 ],
 "metadata": {
  "kernelspec": {
   "display_name": "Python",
   "language": "python",
   "name": "conda-env-python-py"
  },
  "language_info": {
   "codemirror_mode": {
    "name": "ipython",
    "version": 3
   },
   "file_extension": ".py",
   "mimetype": "text/x-python",
   "name": "python",
   "nbconvert_exporter": "python",
   "pygments_lexer": "ipython3",
   "version": "3.7.12"
  }
 },
 "nbformat": 4,
 "nbformat_minor": 5
}
